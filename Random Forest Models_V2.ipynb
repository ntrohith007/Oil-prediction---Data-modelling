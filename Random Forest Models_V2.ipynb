{
 "cells": [
  {
   "cell_type": "code",
   "execution_count": 22,
   "id": "256739e0",
   "metadata": {},
   "outputs": [],
   "source": [
    "import pandas as pd\n",
    "from sklearn.ensemble import RandomForestRegressor, GradientBoostingRegressor\n",
    "from sklearn.linear_model import LinearRegression\n",
    "from sklearn.metrics import mean_squared_error\n",
    "from sklearn.model_selection import TimeSeriesSplit\n",
    "from sklearn.metrics import mean_squared_error, mean_absolute_error, r2_score, median_absolute_error"
   ]
  },
  {
   "cell_type": "code",
   "execution_count": 12,
   "id": "a63c655f",
   "metadata": {},
   "outputs": [],
   "source": [
    "# Load the time series data\n",
    "data = pd.read_excel('rea_holdings_share_prices.xls',header=1)"
   ]
  },
  {
   "cell_type": "code",
   "execution_count": 13,
   "id": "2ee832e8",
   "metadata": {},
   "outputs": [],
   "source": [
    "# Convert the Date column to datetime\n",
    "data['Date'] = pd.to_datetime(data['Date'])\n",
    "\n",
    "# Set the Date column as the index\n",
    "data.set_index('Date', inplace=True)\n",
    "\n",
    "# Resample data to monthly frequency, taking the mean of 'Close' for each month\n",
    "#monthly_data = data.resample('M').mean()\n"
   ]
  },
  {
   "cell_type": "code",
   "execution_count": 14,
   "id": "56075a23",
   "metadata": {},
   "outputs": [],
   "source": [
    "# Defining different lag periods to experiment with\n",
    "lag_periods = [1,3,7,14,30]  # Monthly lag features for different periods"
   ]
  },
  {
   "cell_type": "code",
   "execution_count": 15,
   "id": "a9d2cea3",
   "metadata": {},
   "outputs": [],
   "source": [
    "# Initializing dictionaries to store results\n",
    "model_results = {'Random Forest': [], 'Gradient Boosting': [], 'Linear Regression': []}"
   ]
  },
  {
   "cell_type": "code",
   "execution_count": 16,
   "id": "aaa3d162",
   "metadata": {},
   "outputs": [
    {
     "data": {
      "text/html": [
       "<div>\n",
       "<style scoped>\n",
       "    .dataframe tbody tr th:only-of-type {\n",
       "        vertical-align: middle;\n",
       "    }\n",
       "\n",
       "    .dataframe tbody tr th {\n",
       "        vertical-align: top;\n",
       "    }\n",
       "\n",
       "    .dataframe thead th {\n",
       "        text-align: right;\n",
       "    }\n",
       "</style>\n",
       "<table border=\"1\" class=\"dataframe\">\n",
       "  <thead>\n",
       "    <tr style=\"text-align: right;\">\n",
       "      <th></th>\n",
       "      <th>Open</th>\n",
       "      <th>High</th>\n",
       "      <th>Low</th>\n",
       "      <th>Close</th>\n",
       "    </tr>\n",
       "    <tr>\n",
       "      <th>Date</th>\n",
       "      <th></th>\n",
       "      <th></th>\n",
       "      <th></th>\n",
       "      <th></th>\n",
       "    </tr>\n",
       "  </thead>\n",
       "  <tbody>\n",
       "    <tr>\n",
       "      <th>2015-01-02</th>\n",
       "      <td>702.5</td>\n",
       "      <td>702.5</td>\n",
       "      <td>702.5</td>\n",
       "      <td>702.5</td>\n",
       "    </tr>\n",
       "    <tr>\n",
       "      <th>2015-01-05</th>\n",
       "      <td>697.5</td>\n",
       "      <td>697.5</td>\n",
       "      <td>697.5</td>\n",
       "      <td>697.5</td>\n",
       "    </tr>\n",
       "    <tr>\n",
       "      <th>2015-01-06</th>\n",
       "      <td>682.5</td>\n",
       "      <td>682.5</td>\n",
       "      <td>682.5</td>\n",
       "      <td>682.5</td>\n",
       "    </tr>\n",
       "    <tr>\n",
       "      <th>2015-01-07</th>\n",
       "      <td>690.0</td>\n",
       "      <td>690.0</td>\n",
       "      <td>690.0</td>\n",
       "      <td>690.0</td>\n",
       "    </tr>\n",
       "    <tr>\n",
       "      <th>2015-01-08</th>\n",
       "      <td>705.0</td>\n",
       "      <td>705.0</td>\n",
       "      <td>705.0</td>\n",
       "      <td>705.0</td>\n",
       "    </tr>\n",
       "  </tbody>\n",
       "</table>\n",
       "</div>"
      ],
      "text/plain": [
       "             Open   High    Low  Close\n",
       "Date                                  \n",
       "2015-01-02  702.5  702.5  702.5  702.5\n",
       "2015-01-05  697.5  697.5  697.5  697.5\n",
       "2015-01-06  682.5  682.5  682.5  682.5\n",
       "2015-01-07  690.0  690.0  690.0  690.0\n",
       "2015-01-08  705.0  705.0  705.0  705.0"
      ]
     },
     "execution_count": 16,
     "metadata": {},
     "output_type": "execute_result"
    }
   ],
   "source": [
    "data.head()"
   ]
  },
  {
   "cell_type": "code",
   "execution_count": 17,
   "id": "624d1f89",
   "metadata": {},
   "outputs": [],
   "source": [
    "for lag_period in lag_periods:\n",
    "    # Feature Engineering: Create lag features for the 'Close' price\n",
    "    for i in range(1, lag_period + 1):\n",
    "        data[f'lag_{i}'] = data['Close'].shift(i)\n",
    "    \n",
    "    # Drop rows with NaN resulting from lagged features\n",
    "    data.dropna(inplace=True)\n",
    "\n",
    "    # Split data into features (X) and target variable (y)\n",
    "    X = data.drop(['Close'], axis=1)\n",
    "    y = data['Close']\n",
    "\n",
    "    # Train-Test Split (using TimeSeriesSplit for sequential split)\n",
    "    tscv = TimeSeriesSplit(n_splits=5)\n",
    "    for train_index, test_index in tscv.split(X):\n",
    "        X_train, X_test = X.iloc[train_index], X.iloc[test_index]\n",
    "        y_train, y_test = y.iloc[train_index], y.iloc[test_index]\n",
    "\n",
    "        # Initialize and train the Random Forest model\n",
    "        rf_model = RandomForestRegressor(n_estimators=100, random_state=42)\n",
    "        rf_model.fit(X_train, y_train)\n",
    "        rf_pred = rf_model.predict(X_test)\n",
    "        rf_mse = mean_squared_error(y_test, rf_pred)\n",
    "        model_results['Random Forest'].append(rf_mse)\n",
    "\n",
    "        # Initialize and train the Gradient Boosting model\n",
    "        gb_model = GradientBoostingRegressor(n_estimators=100, random_state=42)\n",
    "        gb_model.fit(X_train, y_train)\n",
    "        gb_pred = gb_model.predict(X_test)\n",
    "        gb_mse = mean_squared_error(y_test, gb_pred)\n",
    "        model_results['Gradient Boosting'].append(gb_mse)\n",
    "\n",
    "        # Initialize and train the Linear Regression model\n",
    "        lr_model = LinearRegression()\n",
    "        lr_model.fit(X_train, y_train)\n",
    "        lr_pred = lr_model.predict(X_test)\n",
    "        lr_mse = mean_squared_error(y_test, lr_pred)\n",
    "        model_results['Linear Regression'].append(lr_mse)"
   ]
  },
  {
   "cell_type": "code",
   "execution_count": 18,
   "id": "7c81e70c",
   "metadata": {},
   "outputs": [
    {
     "name": "stdout",
     "output_type": "stream",
     "text": [
      "    Random Forest  Gradient Boosting  Linear Regression\n",
      "0      820.755309         763.557991       6.080167e-27\n",
      "1       40.847557          27.665668       4.308232e-27\n",
      "2      113.711634         106.467077       7.904217e-27\n",
      "3   211403.471142      203396.061684       2.193724e-25\n",
      "4        5.793295          31.406741       1.737190e-26\n",
      "5      859.378649         766.136937       2.403785e-27\n",
      "6       44.740209          27.847724       3.475036e-27\n",
      "7      151.210883         142.477842       5.208200e-27\n",
      "8   207100.785323      204875.192467       4.112214e-25\n",
      "9        9.951767          46.902896       1.724454e-26\n",
      "10     966.474652         767.901766       5.969813e-26\n",
      "11      69.015385          28.694019       1.644222e-24\n",
      "12     189.236078         168.553982       3.324616e-26\n",
      "13  209963.378561      206336.200326       3.765628e-26\n",
      "14      15.880001          33.408647       5.306112e-26\n",
      "15     977.302352         772.246509       8.028766e-26\n",
      "16      83.427366          29.366485       1.676523e-25\n",
      "17     280.820665         225.184445       3.590291e-26\n",
      "18  212218.823865      208861.379252       1.758040e-24\n",
      "19      40.759194          35.668053       5.317389e-26\n",
      "20     193.624452         123.708161       8.574807e-25\n",
      "21     102.192912          39.902044       1.030015e-24\n",
      "22    1334.466841        1221.383270       7.771553e-25\n",
      "23  145229.168382      121762.823930       6.718706e-25\n",
      "24      63.201422          40.268181       1.132246e-25\n"
     ]
    }
   ],
   "source": [
    "# Create a DataFrame from the model_results dictionary\n",
    "model_results_df = pd.DataFrame(model_results)\n",
    "\n",
    "# Print the DataFrame\n",
    "print(model_results_df)"
   ]
  },
  {
   "cell_type": "markdown",
   "id": "211b878c",
   "metadata": {},
   "source": [
    "## Data Drift"
   ]
  },
  {
   "cell_type": "code",
   "execution_count": 19,
   "id": "3d738a46",
   "metadata": {},
   "outputs": [],
   "source": [
    "from scipy.stats import ks_2samp\n",
    "\n",
    "# Assuming `X_train` is training features\n",
    "drift_metrics = {}\n",
    "for column in X_train.columns:\n",
    "    statistic, p_value = ks_2samp(X_train[column], X_test[column])\n",
    "    drift_metrics[column] = {'statistic': statistic, 'p_value': p_value}\n",
    "\n",
    "drift_df = pd.DataFrame(drift_metrics).T\n",
    "drift_df.to_csv('data_drift_metrics.csv')"
   ]
  },
  {
   "cell_type": "code",
   "execution_count": 20,
   "id": "29b0ce81",
   "metadata": {},
   "outputs": [
    {
     "name": "stdout",
     "output_type": "stream",
     "text": [
      "        statistic        p_value\n",
      "Open     0.775330  3.936038e-185\n",
      "High     0.775330  3.936038e-185\n",
      "Low      0.775330  3.936038e-185\n",
      "lag_1    0.775881  1.881823e-185\n",
      "lag_2    0.776432  8.986675e-186\n",
      "lag_3    0.776982  4.286657e-186\n",
      "lag_4    0.777533  2.042379e-186\n",
      "lag_5    0.778084  9.719649e-187\n",
      "lag_6    0.778634  4.620189e-187\n",
      "lag_7    0.779185  2.193626e-187\n",
      "lag_8    0.779736  1.040297e-187\n",
      "lag_9    0.780286  4.927684e-188\n",
      "lag_10   0.780837  2.331403e-188\n",
      "lag_11   0.781388  1.101741e-188\n",
      "lag_12   0.781938  5.200290e-189\n",
      "lag_13   0.782489  2.451660e-189\n",
      "lag_14   0.783040  1.154452e-189\n",
      "lag_15   0.783590  5.429662e-190\n",
      "lag_16   0.784141  2.550643e-190\n",
      "lag_17   0.784692  1.196754e-190\n",
      "lag_18   0.785242  5.608370e-191\n",
      "lag_19   0.785793  2.625087e-191\n",
      "lag_20   0.786344  1.227225e-191\n",
      "lag_21   0.786894  5.730288e-192\n",
      "lag_22   0.787445  2.672385e-192\n",
      "lag_23   0.787996  1.244774e-192\n",
      "lag_24   0.788546  5.790934e-193\n",
      "lag_25   0.789097  2.690743e-193\n",
      "lag_26   0.789648  1.248704e-193\n",
      "lag_27   0.790198  5.787736e-194\n",
      "lag_28   0.790749  2.679281e-194\n",
      "lag_29   0.791300  1.238758e-194\n",
      "lag_30   0.791850  5.720205e-195\n"
     ]
    }
   ],
   "source": [
    "print(drift_df)"
   ]
  },
  {
   "cell_type": "markdown",
   "id": "c3b7c606",
   "metadata": {},
   "source": [
    "## Save Model Predictions and Results"
   ]
  },
  {
   "cell_type": "code",
   "execution_count": 25,
   "id": "8f4f82e4",
   "metadata": {},
   "outputs": [],
   "source": [
    "# Calculate metrics\n",
    "rf_metrics = {\n",
    "    'MSE': mean_squared_error(y_test, rf_pred),\n",
    "    'MAE': mean_absolute_error(y_test, rf_pred),\n",
    "    'RMSE': mean_squared_error(y_test, rf_pred, squared=False),\n",
    "    'R2': r2_score(y_test, rf_pred),\n",
    "    'MedianAE': median_absolute_error(y_test, rf_pred)\n",
    "}\n",
    "\n",
    "gb_metrics = {\n",
    "    'MSE': mean_squared_error(y_test, gb_pred),\n",
    "    'MAE': mean_absolute_error(y_test, gb_pred),\n",
    "    'RMSE': mean_squared_error(y_test, gb_pred, squared=False),\n",
    "    'R2': r2_score(y_test, gb_pred),\n",
    "    'MedianAE': median_absolute_error(y_test, gb_pred)\n",
    "}\n",
    "\n",
    "lr_metrics = {\n",
    "    'MSE': mean_squared_error(y_test, lr_pred),\n",
    "    'MAE': mean_absolute_error(y_test, lr_pred),\n",
    "    'RMSE': mean_squared_error(y_test, lr_pred, squared=False),\n",
    "    'R2': r2_score(y_test, lr_pred),\n",
    "    'MedianAE': median_absolute_error(y_test, lr_pred)\n",
    "}\n",
    "\n",
    "# Create DataFrames for metrics\n",
    "metrics_df = pd.DataFrame({\n",
    "    'Model': ['Random Forest', 'Gradient Boosting', 'Linear Regression'],\n",
    "    'MSE': [rf_metrics['MSE'], gb_metrics['MSE'], lr_metrics['MSE']],\n",
    "    'MAE': [rf_metrics['MAE'], gb_metrics['MAE'], lr_metrics['MAE']],\n",
    "    'RMSE': [rf_metrics['RMSE'], gb_metrics['RMSE'], lr_metrics['RMSE']],\n",
    "    'R2': [rf_metrics['R2'], gb_metrics['R2'], lr_metrics['R2']],\n",
    "    'MedianAE': [rf_metrics['MedianAE'], gb_metrics['MedianAE'], lr_metrics['MedianAE']]\n",
    "})\n",
    "\n",
    "# Save metrics to CSV\n",
    "metrics_df.to_csv('model_metrics.csv', index=False)\n",
    "\n",
    "# Store predictions in DataFrame\n",
    "results_df = pd.DataFrame({\n",
    "    'Date': X_test.index,\n",
    "    'Actual': y_test,\n",
    "    'RF_Predicted': rf_pred,\n",
    "    'GB_Predicted': gb_pred,\n",
    "    'LR_Predicted': lr_pred\n",
    "})\n",
    "\n",
    "# Save predictions to CSV\n",
    "results_df.to_csv('model_predictions.csv', index=False)"
   ]
  },
  {
   "cell_type": "markdown",
   "id": "dba578c8",
   "metadata": {},
   "source": [
    "## Prepare Data for Tableau"
   ]
  },
  {
   "cell_type": "code",
   "execution_count": 24,
   "id": "48440526",
   "metadata": {},
   "outputs": [],
   "source": [
    "combined_metrics_df = metrics_df.join(drift_df, how='outer')\n",
    "combined_metrics_df.to_csv('combined_metrics.csv', index=False)"
   ]
  },
  {
   "cell_type": "code",
   "execution_count": null,
   "id": "c4f8d551",
   "metadata": {},
   "outputs": [],
   "source": []
  }
 ],
 "metadata": {
  "kernelspec": {
   "display_name": "Python 3 (ipykernel)",
   "language": "python",
   "name": "python3"
  },
  "language_info": {
   "codemirror_mode": {
    "name": "ipython",
    "version": 3
   },
   "file_extension": ".py",
   "mimetype": "text/x-python",
   "name": "python",
   "nbconvert_exporter": "python",
   "pygments_lexer": "ipython3",
   "version": "3.11.4"
  }
 },
 "nbformat": 4,
 "nbformat_minor": 5
}
